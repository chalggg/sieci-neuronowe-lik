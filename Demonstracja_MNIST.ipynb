{
  "nbformat": 4,
  "nbformat_minor": 0,
  "metadata": {
    "colab": {
      "name": "Demonstracja MNIST.ipynb",
      "provenance": [],
      "collapsed_sections": []
    },
    "kernelspec": {
      "name": "python3",
      "display_name": "Python 3"
    },
    "accelerator": "GPU"
  },
  "cells": [
    {
      "cell_type": "markdown",
      "metadata": {
        "id": "T0qYhQuWhN8d"
      },
      "source": [
        "### Włączamy obsługę GPU\n",
        "  Na pasku narzędzi: *Runtime > Change Runtime Type*\n",
        "  ustawiamy  *Hardware Accelerator* na GPU.\n",
        "  Tutaj akurat trenujemy niewielką sieć, ale warto pamiętać o  tym ustawieniu jeśli zamierzamy trenować duże sieci.\n",
        "  "
      ]
    },
    {
      "cell_type": "markdown",
      "metadata": {
        "id": "mwtT9mH_i99x"
      },
      "source": [
        "### Importujemy niezbędne biblioteki\n",
        "\n",
        "Importujemy bibliotekę tensorflow ale, żeby nie używać pełnej nazwy, która jest za długa do częstego wpisywania, będziemy używali nazwy tf"
      ]
    },
    {
      "cell_type": "code",
      "metadata": {
        "id": "jROiJ7qojFNh"
      },
      "source": [
        "import tensorflow as tf\n",
        "import matplotlib.pyplot as plt # biblioteka do wizualizacji przykładów\n",
        "\n",
        "#biblioteki do ładnego wyświetlenia tablicy\n",
        "from pprint import pprint\n",
        "import numpy as np\n",
        "large_width = 400\n",
        "np.set_printoptions(linewidth=large_width)"
      ],
      "execution_count": null,
      "outputs": []
    },
    {
      "cell_type": "markdown",
      "metadata": {
        "id": "eeBrK-XskDQ-"
      },
      "source": [
        "### Ładujemy dane\n",
        "Szczęśliwie zbiór MNIST jest od razu dostępny jako przykładowy w bibliotece.  \n",
        "x_train - obrazy treningowe  \n",
        "y_train -etykiety obrazów treningowych  \n",
        "x_test, y_test - analogicznie dla zbioru testowego"
      ]
    },
    {
      "cell_type": "code",
      "metadata": {
        "colab": {
          "base_uri": "https://localhost:8080/"
        },
        "id": "sUDKFPrhiJb8",
        "outputId": "12b1fb6d-ea66-4d5b-8381-7fe1735d4535"
      },
      "source": [
        "(x_train, y_train), (x_test, y_test) = tf.keras.datasets.mnist.load_data()"
      ],
      "execution_count": null,
      "outputs": [
        {
          "output_type": "stream",
          "text": [
            "Downloading data from https://storage.googleapis.com/tensorflow/tf-keras-datasets/mnist.npz\n",
            "11493376/11490434 [==============================] - 1s 0us/step\n"
          ],
          "name": "stdout"
        }
      ]
    },
    {
      "cell_type": "code",
      "metadata": {
        "colab": {
          "base_uri": "https://localhost:8080/"
        },
        "id": "y_e7dhUoMoNM",
        "outputId": "4b27f4d2-db05-4efa-ccc8-8ad78b3e4631"
      },
      "source": [
        "print(\"liczba obrazow treningowych\", len(x_train), \"liczba obrazow testowych\", len(x_test))"
      ],
      "execution_count": null,
      "outputs": [
        {
          "output_type": "stream",
          "text": [
            "liczba obrazow treningowych 60000 liczba obrazow testowych 10000\n"
          ],
          "name": "stdout"
        }
      ]
    },
    {
      "cell_type": "code",
      "metadata": {
        "colab": {
          "base_uri": "https://localhost:8080/",
          "height": 208
        },
        "id": "FdRGSfw9keO7",
        "outputId": "39e3f81d-cfbb-48b1-9267-197dd9ed8f0e"
      },
      "source": [
        "fig, ax=plt.subplots(1,5) #przygotowujemy miejsce na 5 obrazów w 1 wierszu\n",
        "fig.set_figheight(15) #powiększamy rozmiar obrazu, żeby był bardziej czytelny\n",
        "fig.set_figwidth(15)  #powiększamy rozmiar obrazu, żeby był bardziej czytelny\n",
        "for i in range(5): #chcemy wyświetlić 5  pierwszych obrazów\n",
        "  ax[i].imshow(x_train[i], cmap='gray') #wyświetlamy  i-ty obraz w skali szarości w i-tej kolumnie\n",
        "  ax[i].set_title(\"etykieta:\"+str(y_train[i])) #dodajemy podpis z etykietą klasy\n",
        "  "
      ],
      "execution_count": null,
      "outputs": [
        {
          "output_type": "display_data",
          "data": {
            "image/png": "[encoded data removed]",
            "text/plain": [
              "<Figure size 1080x1080 with 5 Axes>"
            ]
          },
          "metadata": {
            "tags": [],
            "needs_background": "light"
          }
        }
      ]
    },
    {
      "cell_type": "code",
      "metadata": {
        "colab": {
          "base_uri": "https://localhost:8080/"
        },
        "id": "QgfTtho6kik8",
        "outputId": "87620272-1579-4344-f911-b55194e8a379"
      },
      "source": [
        "pprint(x_train[0], width=800) #wyświetlamy reprezentację pierwszej cyfry w pamięci komputera\n"
      ],
      "execution_count": null,
      "outputs": [
        {
          "output_type": "stream",
          "text": [
            "array([[  0,   0,   0,   0,   0,   0,   0,   0,   0,   0,   0,   0,   0,   0,   0,   0,   0,   0,   0,   0,   0,   0,   0,   0,   0,   0,   0,   0],\n",
            "       [  0,   0,   0,   0,   0,   0,   0,   0,   0,   0,   0,   0,   0,   0,   0,   0,   0,   0,   0,   0,   0,   0,   0,   0,   0,   0,   0,   0],\n",
            "       [  0,   0,   0,   0,   0,   0,   0,   0,   0,   0,   0,   0,   0,   0,   0,   0,   0,   0,   0,   0,   0,   0,   0,   0,   0,   0,   0,   0],\n",
            "       [  0,   0,   0,   0,   0,   0,   0,   0,   0,   0,   0,   0,   0,   0,   0,   0,   0,   0,   0,   0,   0,   0,   0,   0,   0,   0,   0,   0],\n",
            "       [  0,   0,   0,   0,   0,   0,   0,   0,   0,   0,   0,   0,   0,   0,   0,   0,   0,   0,   0,   0,   0,   0,   0,   0,   0,   0,   0,   0],\n",
            "       [  0,   0,   0,   0,   0,   0,   0,   0,   0,   0,   0,   0,   3,  18,  18,  18, 126, 136, 175,  26, 166, 255, 247, 127,   0,   0,   0,   0],\n",
            "       [  0,   0,   0,   0,   0,   0,   0,   0,  30,  36,  94, 154, 170, 253, 253, 253, 253, 253, 225, 172, 253, 242, 195,  64,   0,   0,   0,   0],\n",
            "       [  0,   0,   0,   0,   0,   0,   0,  49, 238, 253, 253, 253, 253, 253, 253, 253, 253, 251,  93,  82,  82,  56,  39,   0,   0,   0,   0,   0],\n",
            "       [  0,   0,   0,   0,   0,   0,   0,  18, 219, 253, 253, 253, 253, 253, 198, 182, 247, 241,   0,   0,   0,   0,   0,   0,   0,   0,   0,   0],\n",
            "       [  0,   0,   0,   0,   0,   0,   0,   0,  80, 156, 107, 253, 253, 205,  11,   0,  43, 154,   0,   0,   0,   0,   0,   0,   0,   0,   0,   0],\n",
            "       [  0,   0,   0,   0,   0,   0,   0,   0,   0,  14,   1, 154, 253,  90,   0,   0,   0,   0,   0,   0,   0,   0,   0,   0,   0,   0,   0,   0],\n",
            "       [  0,   0,   0,   0,   0,   0,   0,   0,   0,   0,   0, 139, 253, 190,   2,   0,   0,   0,   0,   0,   0,   0,   0,   0,   0,   0,   0,   0],\n",
            "       [  0,   0,   0,   0,   0,   0,   0,   0,   0,   0,   0,  11, 190, 253,  70,   0,   0,   0,   0,   0,   0,   0,   0,   0,   0,   0,   0,   0],\n",
            "       [  0,   0,   0,   0,   0,   0,   0,   0,   0,   0,   0,   0,  35, 241, 225, 160, 108,   1,   0,   0,   0,   0,   0,   0,   0,   0,   0,   0],\n",
            "       [  0,   0,   0,   0,   0,   0,   0,   0,   0,   0,   0,   0,   0,  81, 240, 253, 253, 119,  25,   0,   0,   0,   0,   0,   0,   0,   0,   0],\n",
            "       [  0,   0,   0,   0,   0,   0,   0,   0,   0,   0,   0,   0,   0,   0,  45, 186, 253, 253, 150,  27,   0,   0,   0,   0,   0,   0,   0,   0],\n",
            "       [  0,   0,   0,   0,   0,   0,   0,   0,   0,   0,   0,   0,   0,   0,   0,  16,  93, 252, 253, 187,   0,   0,   0,   0,   0,   0,   0,   0],\n",
            "       [  0,   0,   0,   0,   0,   0,   0,   0,   0,   0,   0,   0,   0,   0,   0,   0,   0, 249, 253, 249,  64,   0,   0,   0,   0,   0,   0,   0],\n",
            "       [  0,   0,   0,   0,   0,   0,   0,   0,   0,   0,   0,   0,   0,   0,  46, 130, 183, 253, 253, 207,   2,   0,   0,   0,   0,   0,   0,   0],\n",
            "       [  0,   0,   0,   0,   0,   0,   0,   0,   0,   0,   0,   0,  39, 148, 229, 253, 253, 253, 250, 182,   0,   0,   0,   0,   0,   0,   0,   0],\n",
            "       [  0,   0,   0,   0,   0,   0,   0,   0,   0,   0,  24, 114, 221, 253, 253, 253, 253, 201,  78,   0,   0,   0,   0,   0,   0,   0,   0,   0],\n",
            "       [  0,   0,   0,   0,   0,   0,   0,   0,  23,  66, 213, 253, 253, 253, 253, 198,  81,   2,   0,   0,   0,   0,   0,   0,   0,   0,   0,   0],\n",
            "       [  0,   0,   0,   0,   0,   0,  18, 171, 219, 253, 253, 253, 253, 195,  80,   9,   0,   0,   0,   0,   0,   0,   0,   0,   0,   0,   0,   0],\n",
            "       [  0,   0,   0,   0,  55, 172, 226, 253, 253, 253, 253, 244, 133,  11,   0,   0,   0,   0,   0,   0,   0,   0,   0,   0,   0,   0,   0,   0],\n",
            "       [  0,   0,   0,   0, 136, 253, 253, 253, 212, 135, 132,  16,   0,   0,   0,   0,   0,   0,   0,   0,   0,   0,   0,   0,   0,   0,   0,   0],\n",
            "       [  0,   0,   0,   0,   0,   0,   0,   0,   0,   0,   0,   0,   0,   0,   0,   0,   0,   0,   0,   0,   0,   0,   0,   0,   0,   0,   0,   0],\n",
            "       [  0,   0,   0,   0,   0,   0,   0,   0,   0,   0,   0,   0,   0,   0,   0,   0,   0,   0,   0,   0,   0,   0,   0,   0,   0,   0,   0,   0],\n",
            "       [  0,   0,   0,   0,   0,   0,   0,   0,   0,   0,   0,   0,   0,   0,   0,   0,   0,   0,   0,   0,   0,   0,   0,   0,   0,   0,   0,   0]], dtype=uint8)\n"
          ],
          "name": "stdout"
        }
      ]
    },
    {
      "cell_type": "code",
      "metadata": {
        "id": "HlOfUWwpyKXV"
      },
      "source": [
        "#skalujemy dane wejściowe, aby miały zakres od 0 do 1\n",
        "x_train = x_train / 255. \n",
        "x_test = x_test / 255."
      ],
      "execution_count": null,
      "outputs": []
    },
    {
      "cell_type": "code",
      "metadata": {
        "colab": {
          "base_uri": "https://localhost:8080/"
        },
        "id": "t9R2GQZGBv5F",
        "outputId": "f4de721c-809c-4063-f2ee-01bb9c0b2d23"
      },
      "source": [
        "# zmieniamy sposób zapisu etykiet na taki zrozumiały dla funkcji kosztu\n",
        "y_test=tf.keras.utils.to_categorical(y_test)\n",
        "y_train=tf.keras.utils.to_categorical(y_train)\n",
        "print(y_train[0])"
      ],
      "execution_count": null,
      "outputs": [
        {
          "output_type": "stream",
          "text": [
            "[0. 0. 0. 0. 0. 1. 0. 0. 0. 0.]\n"
          ],
          "name": "stdout"
        }
      ]
    },
    {
      "cell_type": "markdown",
      "metadata": {
        "id": "3-J6FjsaxN0L"
      },
      "source": [
        "## Budujemy model\n",
        "\n",
        "Zbudujemy prosty model złożony z warstw w pełni połączonych.  \n",
        "Architektura jest bardzo prosta i ma jedynie służyć do celów demonstracyjnych.  \n",
        "W rzeczywistych zastosowaniach do rozpoznawania obrazów wykorzystuje się głównie sieci konwolucyjne (CNN)."
      ]
    },
    {
      "cell_type": "code",
      "metadata": {
        "id": "sc7EaEXrrCiZ"
      },
      "source": [
        "model =tf.keras.models.Sequential() #rozpoczynamy budowę modelu, Sequential oznacza, że będziemy kolejno (\"sekwencyjnie\") dodawać nowe warstwy\n",
        "model.add(tf.keras.layers.Flatten())  #warstwa, która skleja \"wiersze\" dwuwymiarowego obrazu, w jeden długi \"wiersz\", w ten sposób zamieniamy obraz na 1-wymiarowy wektor\n",
        "model.add(tf.keras.layers.Dense(16, activation=\"relu\")) #warstwa w pełni połączona o 128 neuronach\n",
        "\n",
        "model.add(tf.keras.layers.Dense(10,activation=\"sigmoid\")) #liczba neuronów w tej warstwie musi być równa liczbie klas!!!"
      ],
      "execution_count": null,
      "outputs": []
    },
    {
      "cell_type": "markdown",
      "metadata": {
        "id": "0u2d_5iQEMCw"
      },
      "source": [
        "### Uczymy model\n",
        "\n",
        "Model celowo jest uczony przez zbyt dużą liczbę epok, aby pokazać, że więcej nie zawsze znaczy lepiej."
      ]
    },
    {
      "cell_type": "code",
      "metadata": {
        "colab": {
          "base_uri": "https://localhost:8080/"
        },
        "id": "Fc4H5a7vCaH_",
        "outputId": "6640b6a9-fef8-4602-8c30-6f5b8706581e"
      },
      "source": [
        "optimizer=tf.keras.optimizers.Adam(learning_rate=0.001) #wybieramy optymalizator (jeden z bardziej popularnych, alternatywą może być SGD) do uczenia, ustawiamy współczynnik uczenia na 0.001\n",
        "model.compile(optimizer=optimizer, loss=\"categorical_crossentropy\", metrics=[\"accuracy\"]) #kompilujemy model i podajemy funkcję straty\n",
        "\n",
        "history=model.fit(x=x_train,y=y_train,validation_data=(x_test,y_test),epochs=30,batch_size=64) #uczymy model podając mu 64 obrazy w jednej partii, cały zbiór przepuszczamy przez model 30 razy"
      ],
      "execution_count": null,
      "outputs": [
        {
          "output_type": "stream",
          "text": [
            "Epoch 1/30\n",
            "938/938 [==============================] - 2s 3ms/step - loss: 0.5380 - accuracy: 0.8587 - val_loss: 0.2847 - val_accuracy: 0.9207\n",
            "Epoch 2/30\n",
            "938/938 [==============================] - 2s 2ms/step - loss: 0.2807 - accuracy: 0.9203 - val_loss: 0.2580 - val_accuracy: 0.9261\n",
            "Epoch 3/30\n",
            "938/938 [==============================] - 2s 2ms/step - loss: 0.2499 - accuracy: 0.9295 - val_loss: 0.2355 - val_accuracy: 0.9333\n",
            "Epoch 4/30\n",
            "938/938 [==============================] - 2s 2ms/step - loss: 0.2300 - accuracy: 0.9347 - val_loss: 0.2232 - val_accuracy: 0.9356\n",
            "Epoch 5/30\n",
            "938/938 [==============================] - 2s 2ms/step - loss: 0.2140 - accuracy: 0.9399 - val_loss: 0.2117 - val_accuracy: 0.9402\n",
            "Epoch 6/30\n",
            "938/938 [==============================] - 2s 2ms/step - loss: 0.2010 - accuracy: 0.9439 - val_loss: 0.2050 - val_accuracy: 0.9412\n",
            "Epoch 7/30\n",
            "938/938 [==============================] - 2s 2ms/step - loss: 0.1917 - accuracy: 0.9461 - val_loss: 0.1946 - val_accuracy: 0.9456\n",
            "Epoch 8/30\n",
            "938/938 [==============================] - 2s 2ms/step - loss: 0.1834 - accuracy: 0.9476 - val_loss: 0.1861 - val_accuracy: 0.9459\n",
            "Epoch 9/30\n",
            "938/938 [==============================] - 2s 2ms/step - loss: 0.1771 - accuracy: 0.9500 - val_loss: 0.1863 - val_accuracy: 0.9456\n",
            "Epoch 10/30\n",
            "938/938 [==============================] - 2s 2ms/step - loss: 0.1704 - accuracy: 0.9519 - val_loss: 0.1778 - val_accuracy: 0.9486\n",
            "Epoch 11/30\n",
            "938/938 [==============================] - 2s 2ms/step - loss: 0.1650 - accuracy: 0.9531 - val_loss: 0.1806 - val_accuracy: 0.9467\n",
            "Epoch 12/30\n",
            "938/938 [==============================] - 2s 3ms/step - loss: 0.1599 - accuracy: 0.9542 - val_loss: 0.1763 - val_accuracy: 0.9489\n",
            "Epoch 13/30\n",
            "938/938 [==============================] - 2s 3ms/step - loss: 0.1560 - accuracy: 0.9554 - val_loss: 0.1763 - val_accuracy: 0.9481\n",
            "Epoch 14/30\n",
            "938/938 [==============================] - 2s 2ms/step - loss: 0.1515 - accuracy: 0.9571 - val_loss: 0.1788 - val_accuracy: 0.9492\n",
            "Epoch 15/30\n",
            "938/938 [==============================] - 2s 3ms/step - loss: 0.1481 - accuracy: 0.9575 - val_loss: 0.1705 - val_accuracy: 0.9511\n",
            "Epoch 16/30\n",
            "938/938 [==============================] - 2s 2ms/step - loss: 0.1452 - accuracy: 0.9582 - val_loss: 0.1714 - val_accuracy: 0.9494\n",
            "Epoch 17/30\n",
            "938/938 [==============================] - 2s 2ms/step - loss: 0.1425 - accuracy: 0.9591 - val_loss: 0.1796 - val_accuracy: 0.9481\n",
            "Epoch 18/30\n",
            "938/938 [==============================] - 2s 2ms/step - loss: 0.1389 - accuracy: 0.9598 - val_loss: 0.1676 - val_accuracy: 0.9511\n",
            "Epoch 19/30\n",
            "938/938 [==============================] - 2s 2ms/step - loss: 0.1362 - accuracy: 0.9598 - val_loss: 0.1707 - val_accuracy: 0.9498\n",
            "Epoch 20/30\n",
            "938/938 [==============================] - 2s 3ms/step - loss: 0.1341 - accuracy: 0.9608 - val_loss: 0.1662 - val_accuracy: 0.9529\n",
            "Epoch 21/30\n",
            "938/938 [==============================] - 2s 2ms/step - loss: 0.1315 - accuracy: 0.9615 - val_loss: 0.1685 - val_accuracy: 0.9504\n",
            "Epoch 22/30\n",
            "938/938 [==============================] - 2s 2ms/step - loss: 0.1293 - accuracy: 0.9619 - val_loss: 0.1689 - val_accuracy: 0.9519\n",
            "Epoch 23/30\n",
            "938/938 [==============================] - 2s 2ms/step - loss: 0.1272 - accuracy: 0.9621 - val_loss: 0.1703 - val_accuracy: 0.9514\n",
            "Epoch 24/30\n",
            "938/938 [==============================] - 2s 3ms/step - loss: 0.1262 - accuracy: 0.9628 - val_loss: 0.1693 - val_accuracy: 0.9511\n",
            "Epoch 25/30\n",
            "938/938 [==============================] - 2s 2ms/step - loss: 0.1243 - accuracy: 0.9638 - val_loss: 0.1792 - val_accuracy: 0.9492\n",
            "Epoch 26/30\n",
            "938/938 [==============================] - 2s 2ms/step - loss: 0.1216 - accuracy: 0.9642 - val_loss: 0.1697 - val_accuracy: 0.9518\n",
            "Epoch 27/30\n",
            "938/938 [==============================] - 2s 2ms/step - loss: 0.1194 - accuracy: 0.9646 - val_loss: 0.1680 - val_accuracy: 0.9534\n",
            "Epoch 28/30\n",
            "938/938 [==============================] - 2s 2ms/step - loss: 0.1180 - accuracy: 0.9657 - val_loss: 0.1674 - val_accuracy: 0.9537\n",
            "Epoch 29/30\n",
            "938/938 [==============================] - 2s 2ms/step - loss: 0.1166 - accuracy: 0.9650 - val_loss: 0.1743 - val_accuracy: 0.9532\n",
            "Epoch 30/30\n",
            "938/938 [==============================] - 2s 2ms/step - loss: 0.1154 - accuracy: 0.9661 - val_loss: 0.1722 - val_accuracy: 0.9517\n"
          ],
          "name": "stdout"
        }
      ]
    },
    {
      "cell_type": "markdown",
      "metadata": {
        "id": "EJSgAyXDTrjb"
      },
      "source": [
        "Podgląd na strukturę modelu"
      ]
    },
    {
      "cell_type": "code",
      "metadata": {
        "colab": {
          "base_uri": "https://localhost:8080/"
        },
        "id": "cOhZHvEeTl6y",
        "outputId": "02753038-c1be-40d9-d94f-1881e4f9473d"
      },
      "source": [
        "model.summary() # w kolumnie params znajduje się liczba parametrów czyli wag neuronów"
      ],
      "execution_count": null,
      "outputs": [
        {
          "output_type": "stream",
          "text": [
            "Model: \"sequential\"\n",
            "_________________________________________________________________\n",
            "Layer (type)                 Output Shape              Param #   \n",
            "=================================================================\n",
            "flatten (Flatten)            (None, 784)               0         \n",
            "_________________________________________________________________\n",
            "dense (Dense)                (None, 16)                12560     \n",
            "_________________________________________________________________\n",
            "dense_1 (Dense)              (None, 10)                170       \n",
            "=================================================================\n",
            "Total params: 12,730\n",
            "Trainable params: 12,730\n",
            "Non-trainable params: 0\n",
            "_________________________________________________________________\n"
          ],
          "name": "stdout"
        }
      ]
    },
    {
      "cell_type": "markdown",
      "metadata": {
        "id": "D4w5WZlLI4Wk"
      },
      "source": [
        "### Analizujemy wyniki modelu\n",
        "\n",
        "Tu warto zwrócić uwagę, że od pewnego momentu wyniki modelu na zbiorze testowym się nie poprawiają, a nawet mogą się pogarszać. Jednocześnie wyniki na zbiorze treningowym cały czas się poprawiają. Może to świadczyć o przeuczeniu (ang. overfitting), czyli zjawisku w którym model \"zapamiętuje\" przykłady treningowe, a nie znajduje reguł pozwalających na radzenie sobie z nowymi przykładami. "
      ]
    },
    {
      "cell_type": "markdown",
      "metadata": {
        "id": "d40SgPq0M-1A"
      },
      "source": [
        "Funkcja straty (mniej=lepiej)"
      ]
    },
    {
      "cell_type": "code",
      "metadata": {
        "colab": {
          "base_uri": "https://localhost:8080/",
          "height": 282
        },
        "id": "_KVwqUKMEV6E",
        "outputId": "637ac2e1-5e2b-4814-d47e-d57b8d49be0b"
      },
      "source": [
        "plt.plot(history.history[\"loss\"])\n",
        "plt.plot(history.history[\"val_loss\"])\n",
        "plt.legend([\"zbiór treningowy\",\"zbiór testowy\"])"
      ],
      "execution_count": null,
      "outputs": [
        {
          "output_type": "execute_result",
          "data": {
            "text/plain": [
              "<matplotlib.legend.Legend at 0x7f6809f55518>"
            ]
          },
          "metadata": {
            "tags": []
          },
          "execution_count": 15
        },
        {
          "output_type": "display_data",
          "data": {
            "image/png": "[encoded data removed]",
            "text/plain": [
              "<Figure size 432x288 with 1 Axes>"
            ]
          },
          "metadata": {
            "tags": [],
            "needs_background": "light"
          }
        }
      ]
    },
    {
      "cell_type": "markdown",
      "metadata": {
        "id": "xhZQa1FpNDaW"
      },
      "source": [
        "Dokładność modelu (więcej=lepiej)"
      ]
    },
    {
      "cell_type": "code",
      "metadata": {
        "colab": {
          "base_uri": "https://localhost:8080/",
          "height": 282
        },
        "id": "MHqIuQFVHbum",
        "outputId": "f550124f-bd5c-4408-fae1-0b6555d88e26"
      },
      "source": [
        "plt.plot(history.history[\"accuracy\"])\n",
        "plt.plot(history.history[\"val_accuracy\"])\n",
        "plt.legend([\"zbiór treningowy\",\"zbiór testowy\"])"
      ],
      "execution_count": null,
      "outputs": [
        {
          "output_type": "execute_result",
          "data": {
            "text/plain": [
              "<matplotlib.legend.Legend at 0x7f6809e49eb8>"
            ]
          },
          "metadata": {
            "tags": []
          },
          "execution_count": 16
        },
        {
          "output_type": "display_data",
          "data": {
            "image/png": "[encoded data removed]",
            "text/plain": [
              "<Figure size 432x288 with 1 Axes>"
            ]
          },
          "metadata": {
            "tags": [],
            "needs_background": "light"
          }
        }
      ]
    },
    {
      "cell_type": "markdown",
      "metadata": {
        "id": "nsdln4btTRB4"
      },
      "source": [
        "Przykłady  błędnych klasyfikacji"
      ]
    },
    {
      "cell_type": "code",
      "metadata": {
        "id": "SlyXcubnIZL_"
      },
      "source": [
        "predictions=model.predict(x_test) # przewidujemy klasy dla przykładów testowych\n",
        "wrong_predictions = np.where((np.argmax(predictions,axis=1)!=np.argmax(y_test,axis=1)))[0] #znajdujemy indeksy błędnie sklasyfikowanych przykładów"
      ],
      "execution_count": null,
      "outputs": []
    },
    {
      "cell_type": "code",
      "metadata": {
        "colab": {
          "base_uri": "https://localhost:8080/",
          "height": 238
        },
        "id": "Q8zQOhtWPeA5",
        "outputId": "9ada4cc0-376d-4098-f090-8b907fefc935"
      },
      "source": [
        "fig, ax=plt.subplots(1,5) #przygotowujemy miejsce na 5 obrazów w 1 wierszu\n",
        "fig.set_figheight(15) #powiększamy rozmiar obrazu, żeby był bardziej czytelny\n",
        "fig.set_figwidth(15)  #powiększamy rozmiar obrazu, żeby był bardziej czytelny\n",
        "for i in range(5): #chcemy wyświetlić 5  pierwszych obrazów\n",
        "  ax[i].imshow(x_test[wrong_predictions[i]], cmap='gray') #wyświetlamy  i-ty obraz w skali szarości w i-tej kolumnie\n",
        "  ax[i].set_title(\"etykieta prawdziwa:\"+\n",
        "                  str(np.argmax(y_test[wrong_predictions[i]]))+\"\\n\"\n",
        "                  \"etykieta algorytmu:\"+\n",
        "                  str(np.argmax(predictions[wrong_predictions[i]]))+\"\\n\"\n",
        "                  ) #dodajemy podpis z etykietą klas"
      ],
      "execution_count": null,
      "outputs": [
        {
          "output_type": "display_data",
          "data": {
            "image/png": "[encoded data removed]",
            "text/plain": [
              "<Figure size 1080x1080 with 5 Axes>"
            ]
          },
          "metadata": {
            "tags": [],
            "needs_background": "light"
          }
        }
      ]
    }
  ]
}