{
  "nbformat": 4,
  "nbformat_minor": 0,
  "metadata": {
    "colab": {
      "name": "Demonstracja MNIST.ipynb",
      "provenance": [],
      "collapsed_sections": []
    },
    "kernelspec": {
      "name": "python3",
      "display_name": "Python 3"
    },
    "accelerator": "GPU"
  },
  "cells": [
    {
      "cell_type": "markdown",
      "metadata": {
        "id": "T0qYhQuWhN8d"
      },
      "source": [
        "### Włączamy obsługę GPU\n",
        "  Na pasku narzędzi: *Runtime > Change Runtime Type*\n",
        "  ustawiamy  *Hardware Accelerator* na GPU.\n",
        "  Tutaj akurat trenujemy niewielką sieć, ale warto pamiętać o  tym ustawieniu jeśli zamierzamy trenować duże sieci.\n",
        "  "
      ]
    },
    {
      "cell_type": "markdown",
      "metadata": {
        "id": "mwtT9mH_i99x"
      },
      "source": [
        "### Importujemy niezbędne biblioteki\n",
        "\n",
        "Importujemy bibliotekę Tensorflow ale, żeby nie używać pełnej nazwy, która jest za długa do częstego wpisywania, będziemy używali nazwy tf"
      ]
    },
    {
      "cell_type": "code",
      "metadata": {
        "id": "jROiJ7qojFNh"
      },
      "source": [
        "import tensorflow as tf #biblioteka do uczenia sieci\n",
        "import matplotlib.pyplot as plt # biblioteka do wizualizacji przykładów\n",
        "\n",
        "#biblioteki do ładnego wyświetlenia tablicy\n",
        "from pprint import pprint\n",
        "import numpy as np\n",
        "large_width = 400\n",
        "np.set_printoptions(linewidth=large_width)"
      ],
      "execution_count": 1,
      "outputs": []
    },
    {
      "cell_type": "markdown",
      "metadata": {
        "id": "eeBrK-XskDQ-"
      },
      "source": [
        "### Ładujemy dane\n",
        "Szczęśliwie zbiór MNIST jest od razu dostępny jako przykładowy w bibliotece.  \n",
        "x_train - obrazy treningowe  \n",
        "y_train -etykiety obrazów treningowych  \n",
        "x_test, y_test - analogicznie dla zbioru testowego"
      ]
    },
    {
      "cell_type": "code",
      "metadata": {
        "id": "sUDKFPrhiJb8"
      },
      "source": [
        "(x_train, y_train), (x_test, y_test) = tf.keras.datasets.mnist.load_data()"
      ],
      "execution_count": 2,
      "outputs": []
    },
    {
      "cell_type": "code",
      "metadata": {
        "colab": {
          "base_uri": "https://localhost:8080/"
        },
        "id": "y_e7dhUoMoNM",
        "outputId": "1299c7d8-57d3-4097-e09d-664e37ccf8c9"
      },
      "source": [
        "print(\"liczba obrazow treningowych\", len(x_train), \"liczba obrazow testowych\", len(x_test))"
      ],
      "execution_count": 3,
      "outputs": [
        {
          "output_type": "stream",
          "text": [
            "liczba obrazow treningowych 60000 liczba obrazow testowych 10000\n"
          ],
          "name": "stdout"
        }
      ]
    },
    {
      "cell_type": "code",
      "metadata": {
        "colab": {
          "base_uri": "https://localhost:8080/",
          "height": 208
        },
        "id": "FdRGSfw9keO7",
        "outputId": "b92bfe14-b66e-4e9f-e8ef-4fe668754578"
      },
      "source": [
        "fig, ax=plt.subplots(1,5) #przygotowujemy miejsce na 5 obrazów w 1 wierszu\n",
        "fig.set_figheight(15) #powiększamy rozmiar obrazu, żeby był bardziej czytelny\n",
        "fig.set_figwidth(15)  #powiększamy rozmiar obrazu, żeby był bardziej czytelny\n",
        "for i in range(5): #chcemy wyświetlić 5  pierwszych obrazów\n",
        "  ax[i].imshow(x_train[i], cmap='gray') #wyświetlamy  i-ty obraz w skali szarości w i-tej kolumnie\n",
        "  ax[i].set_title(\"etykieta:\"+str(y_train[i])) #dodajemy podpis z etykietą klasy\n",
        "  "
      ],
      "execution_count": 4,
      "outputs": [
        {
          "output_type": "display_data",
          "data": {
            "image/png": "[encoded data removed]",
            "text/plain": [
              "<Figure size 1080x1080 with 5 Axes>"
            ]
          },
          "metadata": {
            "tags": [],
            "needs_background": "light"
          }
        }
      ]
    },
    {
      "cell_type": "code",
      "metadata": {
        "colab": {
          "base_uri": "https://localhost:8080/"
        },
        "id": "QgfTtho6kik8",
        "outputId": "8c9ebee8-88ee-42aa-bbcb-b1774869cb61"
      },
      "source": [
        "pprint(x_train[0], width=800) #wyświetlamy reprezentację pierwszej cyfry w pamięci komputera\n"
      ],
      "execution_count": 5,
      "outputs": [
        {
          "output_type": "stream",
          "text": [
            "array([[  0,   0,   0,   0,   0,   0,   0,   0,   0,   0,   0,   0,   0,   0,   0,   0,   0,   0,   0,   0,   0,   0,   0,   0,   0,   0,   0,   0],\n",
            "       [  0,   0,   0,   0,   0,   0,   0,   0,   0,   0,   0,   0,   0,   0,   0,   0,   0,   0,   0,   0,   0,   0,   0,   0,   0,   0,   0,   0],\n",
            "       [  0,   0,   0,   0,   0,   0,   0,   0,   0,   0,   0,   0,   0,   0,   0,   0,   0,   0,   0,   0,   0,   0,   0,   0,   0,   0,   0,   0],\n",
            "       [  0,   0,   0,   0,   0,   0,   0,   0,   0,   0,   0,   0,   0,   0,   0,   0,   0,   0,   0,   0,   0,   0,   0,   0,   0,   0,   0,   0],\n",
            "       [  0,   0,   0,   0,   0,   0,   0,   0,   0,   0,   0,   0,   0,   0,   0,   0,   0,   0,   0,   0,   0,   0,   0,   0,   0,   0,   0,   0],\n",
            "       [  0,   0,   0,   0,   0,   0,   0,   0,   0,   0,   0,   0,   3,  18,  18,  18, 126, 136, 175,  26, 166, 255, 247, 127,   0,   0,   0,   0],\n",
            "       [  0,   0,   0,   0,   0,   0,   0,   0,  30,  36,  94, 154, 170, 253, 253, 253, 253, 253, 225, 172, 253, 242, 195,  64,   0,   0,   0,   0],\n",
            "       [  0,   0,   0,   0,   0,   0,   0,  49, 238, 253, 253, 253, 253, 253, 253, 253, 253, 251,  93,  82,  82,  56,  39,   0,   0,   0,   0,   0],\n",
            "       [  0,   0,   0,   0,   0,   0,   0,  18, 219, 253, 253, 253, 253, 253, 198, 182, 247, 241,   0,   0,   0,   0,   0,   0,   0,   0,   0,   0],\n",
            "       [  0,   0,   0,   0,   0,   0,   0,   0,  80, 156, 107, 253, 253, 205,  11,   0,  43, 154,   0,   0,   0,   0,   0,   0,   0,   0,   0,   0],\n",
            "       [  0,   0,   0,   0,   0,   0,   0,   0,   0,  14,   1, 154, 253,  90,   0,   0,   0,   0,   0,   0,   0,   0,   0,   0,   0,   0,   0,   0],\n",
            "       [  0,   0,   0,   0,   0,   0,   0,   0,   0,   0,   0, 139, 253, 190,   2,   0,   0,   0,   0,   0,   0,   0,   0,   0,   0,   0,   0,   0],\n",
            "       [  0,   0,   0,   0,   0,   0,   0,   0,   0,   0,   0,  11, 190, 253,  70,   0,   0,   0,   0,   0,   0,   0,   0,   0,   0,   0,   0,   0],\n",
            "       [  0,   0,   0,   0,   0,   0,   0,   0,   0,   0,   0,   0,  35, 241, 225, 160, 108,   1,   0,   0,   0,   0,   0,   0,   0,   0,   0,   0],\n",
            "       [  0,   0,   0,   0,   0,   0,   0,   0,   0,   0,   0,   0,   0,  81, 240, 253, 253, 119,  25,   0,   0,   0,   0,   0,   0,   0,   0,   0],\n",
            "       [  0,   0,   0,   0,   0,   0,   0,   0,   0,   0,   0,   0,   0,   0,  45, 186, 253, 253, 150,  27,   0,   0,   0,   0,   0,   0,   0,   0],\n",
            "       [  0,   0,   0,   0,   0,   0,   0,   0,   0,   0,   0,   0,   0,   0,   0,  16,  93, 252, 253, 187,   0,   0,   0,   0,   0,   0,   0,   0],\n",
            "       [  0,   0,   0,   0,   0,   0,   0,   0,   0,   0,   0,   0,   0,   0,   0,   0,   0, 249, 253, 249,  64,   0,   0,   0,   0,   0,   0,   0],\n",
            "       [  0,   0,   0,   0,   0,   0,   0,   0,   0,   0,   0,   0,   0,   0,  46, 130, 183, 253, 253, 207,   2,   0,   0,   0,   0,   0,   0,   0],\n",
            "       [  0,   0,   0,   0,   0,   0,   0,   0,   0,   0,   0,   0,  39, 148, 229, 253, 253, 253, 250, 182,   0,   0,   0,   0,   0,   0,   0,   0],\n",
            "       [  0,   0,   0,   0,   0,   0,   0,   0,   0,   0,  24, 114, 221, 253, 253, 253, 253, 201,  78,   0,   0,   0,   0,   0,   0,   0,   0,   0],\n",
            "       [  0,   0,   0,   0,   0,   0,   0,   0,  23,  66, 213, 253, 253, 253, 253, 198,  81,   2,   0,   0,   0,   0,   0,   0,   0,   0,   0,   0],\n",
            "       [  0,   0,   0,   0,   0,   0,  18, 171, 219, 253, 253, 253, 253, 195,  80,   9,   0,   0,   0,   0,   0,   0,   0,   0,   0,   0,   0,   0],\n",
            "       [  0,   0,   0,   0,  55, 172, 226, 253, 253, 253, 253, 244, 133,  11,   0,   0,   0,   0,   0,   0,   0,   0,   0,   0,   0,   0,   0,   0],\n",
            "       [  0,   0,   0,   0, 136, 253, 253, 253, 212, 135, 132,  16,   0,   0,   0,   0,   0,   0,   0,   0,   0,   0,   0,   0,   0,   0,   0,   0],\n",
            "       [  0,   0,   0,   0,   0,   0,   0,   0,   0,   0,   0,   0,   0,   0,   0,   0,   0,   0,   0,   0,   0,   0,   0,   0,   0,   0,   0,   0],\n",
            "       [  0,   0,   0,   0,   0,   0,   0,   0,   0,   0,   0,   0,   0,   0,   0,   0,   0,   0,   0,   0,   0,   0,   0,   0,   0,   0,   0,   0],\n",
            "       [  0,   0,   0,   0,   0,   0,   0,   0,   0,   0,   0,   0,   0,   0,   0,   0,   0,   0,   0,   0,   0,   0,   0,   0,   0,   0,   0,   0]], dtype=uint8)\n"
          ],
          "name": "stdout"
        }
      ]
    },
    {
      "cell_type": "code",
      "metadata": {
        "id": "HlOfUWwpyKXV"
      },
      "source": [
        "#skalujemy dane wejściowe, aby miały zakres od 0 do 1\n",
        "x_train = x_train / 255. \n",
        "x_test = x_test / 255."
      ],
      "execution_count": 6,
      "outputs": []
    },
    {
      "cell_type": "code",
      "metadata": {
        "colab": {
          "base_uri": "https://localhost:8080/"
        },
        "id": "t9R2GQZGBv5F",
        "outputId": "184844b8-2a05-41bf-bf38-59e2310e6501"
      },
      "source": [
        "# zmieniamy sposób zapisu etykiet na taki zrozumiały dla funkcji kosztu\n",
        "y_test=tf.keras.utils.to_categorical(y_test)\n",
        "y_train=tf.keras.utils.to_categorical(y_train)\n",
        "print(y_train[0])"
      ],
      "execution_count": 7,
      "outputs": [
        {
          "output_type": "stream",
          "text": [
            "[0. 0. 0. 0. 0. 1. 0. 0. 0. 0.]\n"
          ],
          "name": "stdout"
        }
      ]
    },
    {
      "cell_type": "markdown",
      "metadata": {
        "id": "3-J6FjsaxN0L"
      },
      "source": [
        "## Budujemy model\n",
        "\n",
        "Zbudujemy prosty model złożony z warstw w pełni połączonych.  \n",
        "Architektura jest bardzo prosta i ma jedynie służyć do celów demonstracyjnych.  \n",
        "W rzeczywistych zastosowaniach do rozpoznawania obrazów wykorzystuje się głównie sieci konwolucyjne (CNN)."
      ]
    },
    {
      "cell_type": "code",
      "metadata": {
        "id": "sc7EaEXrrCiZ"
      },
      "source": [
        "model =tf.keras.models.Sequential() #rozpoczynamy budowę modelu, Sequential oznacza, że będziemy kolejno (\"sekwencyjnie\") dodawać nowe warstwy\n",
        "model.add(tf.keras.layers.Flatten())  #warstwa, która skleja \"wiersze\" dwuwymiarowego obrazu, w jeden długi \"wiersz\", w ten sposób zamieniamy obraz na 1-wymiarowy wektor\n",
        "model.add(tf.keras.layers.Dense(16, activation=\"relu\")) #warstwa w pełni połączona o 128 neuronach\n",
        "\n",
        "model.add(tf.keras.layers.Dense(10,activation=\"sigmoid\")) #liczba neuronów w tej warstwie musi być równa liczbie klas!!!"
      ],
      "execution_count": 8,
      "outputs": []
    },
    {
      "cell_type": "markdown",
      "metadata": {
        "id": "0u2d_5iQEMCw"
      },
      "source": [
        "### Uczymy model\n",
        "\n",
        "Model celowo jest uczony przez zbyt dużą liczbę epok, aby pokazać, że więcej nie zawsze znaczy lepiej."
      ]
    },
    {
      "cell_type": "code",
      "metadata": {
        "colab": {
          "base_uri": "https://localhost:8080/"
        },
        "id": "Fc4H5a7vCaH_",
        "outputId": "135e5536-8791-4219-c1cc-dfdedcfb5da4"
      },
      "source": [
        "optimizer=tf.keras.optimizers.Adam(learning_rate=0.001) #wybieramy optymalizator (jeden z bardziej popularnych, alternatywą może być SGD) do uczenia, ustawiamy współczynnik uczenia na 0.001\n",
        "model.compile(optimizer=optimizer, loss=\"categorical_crossentropy\", metrics=[\"accuracy\"]) #kompilujemy model i podajemy funkcję straty\n",
        "\n",
        "history=model.fit(x=x_train,y=y_train,validation_data=(x_test,y_test),epochs=30,batch_size=64) #uczymy model podając mu 64 obrazy w jednej partii, cały zbiór przepuszczamy przez model 30 razy"
      ],
      "execution_count": 9,
      "outputs": [
        {
          "output_type": "stream",
          "text": [
            "Epoch 1/30\n",
            "938/938 [==============================] - 3s 3ms/step - loss: 0.8134 - accuracy: 0.7704 - val_loss: 0.2877 - val_accuracy: 0.9195\n",
            "Epoch 2/30\n",
            "938/938 [==============================] - 3s 3ms/step - loss: 0.2856 - accuracy: 0.9181 - val_loss: 0.2504 - val_accuracy: 0.9267\n",
            "Epoch 3/30\n",
            "938/938 [==============================] - 3s 3ms/step - loss: 0.2498 - accuracy: 0.9282 - val_loss: 0.2250 - val_accuracy: 0.9343\n",
            "Epoch 4/30\n",
            "938/938 [==============================] - 3s 3ms/step - loss: 0.2271 - accuracy: 0.9351 - val_loss: 0.2142 - val_accuracy: 0.9368\n",
            "Epoch 5/30\n",
            "938/938 [==============================] - 3s 3ms/step - loss: 0.2088 - accuracy: 0.9387 - val_loss: 0.2085 - val_accuracy: 0.9379\n",
            "Epoch 6/30\n",
            "938/938 [==============================] - 3s 3ms/step - loss: 0.1902 - accuracy: 0.9451 - val_loss: 0.1941 - val_accuracy: 0.9437\n",
            "Epoch 7/30\n",
            "938/938 [==============================] - 3s 3ms/step - loss: 0.1834 - accuracy: 0.9471 - val_loss: 0.1877 - val_accuracy: 0.9446\n",
            "Epoch 8/30\n",
            "938/938 [==============================] - 2s 3ms/step - loss: 0.1746 - accuracy: 0.9497 - val_loss: 0.1820 - val_accuracy: 0.9460\n",
            "Epoch 9/30\n",
            "938/938 [==============================] - 2s 3ms/step - loss: 0.1667 - accuracy: 0.9516 - val_loss: 0.1844 - val_accuracy: 0.9457\n",
            "Epoch 10/30\n",
            "938/938 [==============================] - 2s 3ms/step - loss: 0.1564 - accuracy: 0.9543 - val_loss: 0.1782 - val_accuracy: 0.9468\n",
            "Epoch 11/30\n",
            "938/938 [==============================] - 2s 3ms/step - loss: 0.1553 - accuracy: 0.9536 - val_loss: 0.1734 - val_accuracy: 0.9479\n",
            "Epoch 12/30\n",
            "938/938 [==============================] - 2s 3ms/step - loss: 0.1493 - accuracy: 0.9575 - val_loss: 0.1689 - val_accuracy: 0.9504\n",
            "Epoch 13/30\n",
            "938/938 [==============================] - 2s 3ms/step - loss: 0.1419 - accuracy: 0.9576 - val_loss: 0.1730 - val_accuracy: 0.9490\n",
            "Epoch 14/30\n",
            "938/938 [==============================] - 2s 3ms/step - loss: 0.1398 - accuracy: 0.9591 - val_loss: 0.1683 - val_accuracy: 0.9505\n",
            "Epoch 15/30\n",
            "938/938 [==============================] - 2s 3ms/step - loss: 0.1344 - accuracy: 0.9600 - val_loss: 0.1697 - val_accuracy: 0.9511\n",
            "Epoch 16/30\n",
            "938/938 [==============================] - 3s 3ms/step - loss: 0.1287 - accuracy: 0.9615 - val_loss: 0.1772 - val_accuracy: 0.9473\n",
            "Epoch 17/30\n",
            "938/938 [==============================] - 3s 3ms/step - loss: 0.1265 - accuracy: 0.9630 - val_loss: 0.1692 - val_accuracy: 0.9521\n",
            "Epoch 18/30\n",
            "938/938 [==============================] - 3s 3ms/step - loss: 0.1277 - accuracy: 0.9631 - val_loss: 0.1691 - val_accuracy: 0.9502\n",
            "Epoch 19/30\n",
            "938/938 [==============================] - 3s 3ms/step - loss: 0.1278 - accuracy: 0.9610 - val_loss: 0.1637 - val_accuracy: 0.9524\n",
            "Epoch 20/30\n",
            "938/938 [==============================] - 2s 3ms/step - loss: 0.1196 - accuracy: 0.9639 - val_loss: 0.1625 - val_accuracy: 0.9542\n",
            "Epoch 21/30\n",
            "938/938 [==============================] - 2s 3ms/step - loss: 0.1228 - accuracy: 0.9631 - val_loss: 0.1675 - val_accuracy: 0.9520\n",
            "Epoch 22/30\n",
            "938/938 [==============================] - 3s 3ms/step - loss: 0.1156 - accuracy: 0.9659 - val_loss: 0.1650 - val_accuracy: 0.9531\n",
            "Epoch 23/30\n",
            "938/938 [==============================] - 3s 3ms/step - loss: 0.1137 - accuracy: 0.9662 - val_loss: 0.1683 - val_accuracy: 0.9497\n",
            "Epoch 24/30\n",
            "938/938 [==============================] - 2s 3ms/step - loss: 0.1121 - accuracy: 0.9664 - val_loss: 0.1645 - val_accuracy: 0.9540\n",
            "Epoch 25/30\n",
            "938/938 [==============================] - 2s 3ms/step - loss: 0.1085 - accuracy: 0.9672 - val_loss: 0.1655 - val_accuracy: 0.9518\n",
            "Epoch 26/30\n",
            "938/938 [==============================] - 2s 3ms/step - loss: 0.1152 - accuracy: 0.9654 - val_loss: 0.1682 - val_accuracy: 0.9528\n",
            "Epoch 27/30\n",
            "938/938 [==============================] - 2s 3ms/step - loss: 0.1099 - accuracy: 0.9668 - val_loss: 0.1630 - val_accuracy: 0.9536\n",
            "Epoch 28/30\n",
            "938/938 [==============================] - 2s 2ms/step - loss: 0.1070 - accuracy: 0.9682 - val_loss: 0.1704 - val_accuracy: 0.9522\n",
            "Epoch 29/30\n",
            "938/938 [==============================] - 3s 3ms/step - loss: 0.1092 - accuracy: 0.9669 - val_loss: 0.1629 - val_accuracy: 0.9553\n",
            "Epoch 30/30\n",
            "938/938 [==============================] - 2s 3ms/step - loss: 0.1019 - accuracy: 0.9694 - val_loss: 0.1661 - val_accuracy: 0.9546\n"
          ],
          "name": "stdout"
        }
      ]
    },
    {
      "cell_type": "markdown",
      "metadata": {
        "id": "EJSgAyXDTrjb"
      },
      "source": [
        "Podgląd na strukturę modelu. Pozornie nieduża liczba neuronów wygenerowała ponad 12000 parametrów."
      ]
    },
    {
      "cell_type": "code",
      "metadata": {
        "colab": {
          "base_uri": "https://localhost:8080/"
        },
        "id": "cOhZHvEeTl6y",
        "outputId": "fd166f0d-80eb-4f2e-98ca-4cf198eef27c"
      },
      "source": [
        "model.summary() # w kolumnie params znajduje się liczba parametrów czyli wag neuronów"
      ],
      "execution_count": 10,
      "outputs": [
        {
          "output_type": "stream",
          "text": [
            "Model: \"sequential\"\n",
            "_________________________________________________________________\n",
            "Layer (type)                 Output Shape              Param #   \n",
            "=================================================================\n",
            "flatten (Flatten)            (None, 784)               0         \n",
            "_________________________________________________________________\n",
            "dense (Dense)                (None, 16)                12560     \n",
            "_________________________________________________________________\n",
            "dense_1 (Dense)              (None, 10)                170       \n",
            "=================================================================\n",
            "Total params: 12,730\n",
            "Trainable params: 12,730\n",
            "Non-trainable params: 0\n",
            "_________________________________________________________________\n"
          ],
          "name": "stdout"
        }
      ]
    },
    {
      "cell_type": "markdown",
      "metadata": {
        "id": "D4w5WZlLI4Wk"
      },
      "source": [
        "### Analizujemy wyniki modelu\n",
        "\n",
        "Tu warto zwrócić uwagę, że od pewnego momentu wyniki modelu na zbiorze testowym się nie poprawiają, a nawet mogą się pogarszać. Jednocześnie wyniki na zbiorze treningowym cały czas się poprawiają. Może to świadczyć o przeuczeniu (ang. overfitting), czyli zjawisku w którym model \"zapamiętuje\" przykłady treningowe, a nie znajduje reguł pozwalających na radzenie sobie z nowymi przykładami. "
      ]
    },
    {
      "cell_type": "markdown",
      "metadata": {
        "id": "d40SgPq0M-1A"
      },
      "source": [
        "Funkcja straty (mniej=lepiej)"
      ]
    },
    {
      "cell_type": "code",
      "metadata": {
        "colab": {
          "base_uri": "https://localhost:8080/",
          "height": 296
        },
        "id": "_KVwqUKMEV6E",
        "outputId": "2b93757a-f338-4ed4-a63e-2e34291ae40c"
      },
      "source": [
        "plt.plot(history.history[\"loss\"])\n",
        "plt.plot(history.history[\"val_loss\"])\n",
        "plt.xlabel(\"epoka\")\n",
        "plt.ylabel(\"funkcja kosztu\")\n",
        "plt.legend([\"zbiór treningowy\",\"zbiór testowy\"])"
      ],
      "execution_count": 11,
      "outputs": [
        {
          "output_type": "execute_result",
          "data": {
            "text/plain": [
              "<matplotlib.legend.Legend at 0x7f6f846f8ba8>"
            ]
          },
          "metadata": {
            "tags": []
          },
          "execution_count": 11
        },
        {
          "output_type": "display_data",
          "data": {
            "image/png": "[encoded data removed]",
            "text/plain": [
              "<Figure size 432x288 with 1 Axes>"
            ]
          },
          "metadata": {
            "tags": [],
            "needs_background": "light"
          }
        }
      ]
    },
    {
      "cell_type": "markdown",
      "metadata": {
        "id": "xhZQa1FpNDaW"
      },
      "source": [
        "Dokładność modelu (więcej=lepiej)"
      ]
    },
    {
      "cell_type": "code",
      "metadata": {
        "colab": {
          "base_uri": "https://localhost:8080/",
          "height": 296
        },
        "id": "MHqIuQFVHbum",
        "outputId": "f54b3975-d09d-4b3c-d1e7-748e9043dd52"
      },
      "source": [
        "plt.plot(history.history[\"accuracy\"])\n",
        "plt.plot(history.history[\"val_accuracy\"])\n",
        "plt.xlabel(\"epoka\")\n",
        "plt.ylabel(\"dokładność\")\n",
        "plt.legend([\"zbiór treningowy\",\"zbiór testowy\"])"
      ],
      "execution_count": 12,
      "outputs": [
        {
          "output_type": "execute_result",
          "data": {
            "text/plain": [
              "<matplotlib.legend.Legend at 0x7f6f846f1e80>"
            ]
          },
          "metadata": {
            "tags": []
          },
          "execution_count": 12
        },
        {
          "output_type": "display_data",
          "data": {
            "image/png": "[encoded data removed]",
            "text/plain": [
              "<Figure size 432x288 with 1 Axes>"
            ]
          },
          "metadata": {
            "tags": [],
            "needs_background": "light"
          }
        }
      ]
    },
    {
      "cell_type": "markdown",
      "metadata": {
        "id": "nsdln4btTRB4"
      },
      "source": [
        "Przykłady  błędnych klasyfikacji"
      ]
    },
    {
      "cell_type": "code",
      "metadata": {
        "id": "SlyXcubnIZL_"
      },
      "source": [
        "predictions=model.predict(x_test) # przewidujemy klasy dla przykładów testowych\n",
        "wrong_predictions = np.where((np.argmax(predictions,axis=1)!=np.argmax(y_test,axis=1)))[0] #znajdujemy indeksy błędnie sklasyfikowanych przykładów"
      ],
      "execution_count": 13,
      "outputs": []
    },
    {
      "cell_type": "code",
      "metadata": {
        "colab": {
          "base_uri": "https://localhost:8080/",
          "height": 238
        },
        "id": "Q8zQOhtWPeA5",
        "outputId": "72c58201-cb17-44c0-8002-893ca18891a7"
      },
      "source": [
        "fig, ax=plt.subplots(1,5) #przygotowujemy miejsce na 5 obrazów w 1 wierszu\n",
        "fig.set_figheight(15) #powiększamy rozmiar obrazu, żeby był bardziej czytelny\n",
        "fig.set_figwidth(15)  #powiększamy rozmiar obrazu, żeby był bardziej czytelny\n",
        "for i in range(5): #chcemy wyświetlić 5  pierwszych obrazów\n",
        "  ax[i].imshow(x_test[wrong_predictions[i]], cmap='gray') #wyświetlamy  i-ty obraz w skali szarości w i-tej kolumnie\n",
        "  ax[i].set_title(\"etykieta prawdziwa:\"+\n",
        "                  str(np.argmax(y_test[wrong_predictions[i]]))+\"\\n\"\n",
        "                  \"etykieta algorytmu:\"+\n",
        "                  str(np.argmax(predictions[wrong_predictions[i]]))+\"\\n\"\n",
        "                  ) #dodajemy podpis z etykietą klas"
      ],
      "execution_count": 14,
      "outputs": [
        {
          "output_type": "display_data",
          "data": {
            "image/png": "[encoded data removed]",
            "text/plain": [
              "<Figure size 1080x1080 with 5 Axes>"
            ]
          },
          "metadata": {
            "tags": [],
            "needs_background": "light"
          }
        }
      ]
    },
    {
      "cell_type": "code",
      "metadata": {
        "id": "rapqz_UHKU1L"
      },
      "source": [
        ""
      ],
      "execution_count": 14,
      "outputs": []
    }
  ]
}